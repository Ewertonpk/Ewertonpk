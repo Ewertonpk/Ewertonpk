{
  "nbformat": 4,
  "nbformat_minor": 0,
  "metadata": {
    "colab": {
      "provenance": [],
      "authorship_tag": "ABX9TyNK34V36NjGJqBNMjifOyJ8",
      "include_colab_link": true
    },
    "kernelspec": {
      "name": "python3",
      "display_name": "Python 3"
    },
    "language_info": {
      "name": "python"
    }
  },
  "cells": [
    {
      "cell_type": "markdown",
      "metadata": {
        "id": "view-in-github",
        "colab_type": "text"
      },
      "source": [
        "<a href=\"https://colab.research.google.com/github/Ewertonpk/Ewertonpk/blob/main/Untitled1.ipynb\" target=\"_parent\"><img src=\"https://colab.research.google.com/assets/colab-badge.svg\" alt=\"Open In Colab\"/></a>"
      ]
    },
    {
      "cell_type": "code",
      "execution_count": 1,
      "metadata": {
        "colab": {
          "base_uri": "https://localhost:8080/"
        },
        "id": "8Vr7DQrNLDca",
        "outputId": "b5c7dcdd-5752-46c0-dbd3-9802122f2141"
      },
      "outputs": [
        {
          "output_type": "stream",
          "name": "stdout",
          "text": [
            "Requirement already satisfied: google-genai in /usr/local/lib/python3.11/dist-packages (1.15.0)\n",
            "Requirement already satisfied: anyio<5.0.0,>=4.8.0 in /usr/local/lib/python3.11/dist-packages (from google-genai) (4.9.0)\n",
            "Requirement already satisfied: google-auth<3.0.0,>=2.14.1 in /usr/local/lib/python3.11/dist-packages (from google-genai) (2.38.0)\n",
            "Requirement already satisfied: httpx<1.0.0,>=0.28.1 in /usr/local/lib/python3.11/dist-packages (from google-genai) (0.28.1)\n",
            "Requirement already satisfied: pydantic<3.0.0,>=2.0.0 in /usr/local/lib/python3.11/dist-packages (from google-genai) (2.11.4)\n",
            "Requirement already satisfied: requests<3.0.0,>=2.28.1 in /usr/local/lib/python3.11/dist-packages (from google-genai) (2.32.3)\n",
            "Requirement already satisfied: websockets<15.1.0,>=13.0.0 in /usr/local/lib/python3.11/dist-packages (from google-genai) (15.0.1)\n",
            "Requirement already satisfied: typing-extensions<5.0.0,>=4.11.0 in /usr/local/lib/python3.11/dist-packages (from google-genai) (4.13.2)\n",
            "Requirement already satisfied: idna>=2.8 in /usr/local/lib/python3.11/dist-packages (from anyio<5.0.0,>=4.8.0->google-genai) (3.10)\n",
            "Requirement already satisfied: sniffio>=1.1 in /usr/local/lib/python3.11/dist-packages (from anyio<5.0.0,>=4.8.0->google-genai) (1.3.1)\n",
            "Requirement already satisfied: cachetools<6.0,>=2.0.0 in /usr/local/lib/python3.11/dist-packages (from google-auth<3.0.0,>=2.14.1->google-genai) (5.5.2)\n",
            "Requirement already satisfied: pyasn1-modules>=0.2.1 in /usr/local/lib/python3.11/dist-packages (from google-auth<3.0.0,>=2.14.1->google-genai) (0.4.2)\n",
            "Requirement already satisfied: rsa<5,>=3.1.4 in /usr/local/lib/python3.11/dist-packages (from google-auth<3.0.0,>=2.14.1->google-genai) (4.9.1)\n",
            "Requirement already satisfied: certifi in /usr/local/lib/python3.11/dist-packages (from httpx<1.0.0,>=0.28.1->google-genai) (2025.4.26)\n",
            "Requirement already satisfied: httpcore==1.* in /usr/local/lib/python3.11/dist-packages (from httpx<1.0.0,>=0.28.1->google-genai) (1.0.9)\n",
            "Requirement already satisfied: h11>=0.16 in /usr/local/lib/python3.11/dist-packages (from httpcore==1.*->httpx<1.0.0,>=0.28.1->google-genai) (0.16.0)\n",
            "Requirement already satisfied: annotated-types>=0.6.0 in /usr/local/lib/python3.11/dist-packages (from pydantic<3.0.0,>=2.0.0->google-genai) (0.7.0)\n",
            "Requirement already satisfied: pydantic-core==2.33.2 in /usr/local/lib/python3.11/dist-packages (from pydantic<3.0.0,>=2.0.0->google-genai) (2.33.2)\n",
            "Requirement already satisfied: typing-inspection>=0.4.0 in /usr/local/lib/python3.11/dist-packages (from pydantic<3.0.0,>=2.0.0->google-genai) (0.4.0)\n",
            "Requirement already satisfied: charset-normalizer<4,>=2 in /usr/local/lib/python3.11/dist-packages (from requests<3.0.0,>=2.28.1->google-genai) (3.4.2)\n",
            "Requirement already satisfied: urllib3<3,>=1.21.1 in /usr/local/lib/python3.11/dist-packages (from requests<3.0.0,>=2.28.1->google-genai) (2.4.0)\n",
            "Requirement already satisfied: pyasn1<0.7.0,>=0.6.1 in /usr/local/lib/python3.11/dist-packages (from pyasn1-modules>=0.2.1->google-auth<3.0.0,>=2.14.1->google-genai) (0.6.1)\n"
          ]
        }
      ],
      "source": [
        "!pip install google-genai"
      ]
    },
    {
      "cell_type": "code",
      "source": [
        "import os\n",
        "from google.colab import userdata\n",
        "\n",
        "os.environ[\"GOOGLE_API_KEY\"] = userdata.get('GOOGLE_API_KEY')"
      ],
      "metadata": {
        "id": "xJWq7FFuZFG2"
      },
      "execution_count": 5,
      "outputs": []
    },
    {
      "cell_type": "code",
      "source": [
        "from google import genai\n",
        "\n",
        "Client = genai.Client()"
      ],
      "metadata": {
        "id": "S178NxmeaykR"
      },
      "execution_count": 8,
      "outputs": []
    },
    {
      "cell_type": "code",
      "source": [
        "for model in Client.models.list():\n",
        "  print(model.name)"
      ],
      "metadata": {
        "colab": {
          "base_uri": "https://localhost:8080/"
        },
        "id": "skTIhokOcMsU",
        "outputId": "9740ddfd-42b8-44f3-f1d1-0d16ea432ed6"
      },
      "execution_count": 9,
      "outputs": [
        {
          "output_type": "stream",
          "name": "stdout",
          "text": [
            "models/chat-bison-001\n",
            "models/text-bison-001\n",
            "models/embedding-gecko-001\n",
            "models/gemini-1.0-pro-vision-latest\n",
            "models/gemini-pro-vision\n",
            "models/gemini-1.5-pro-latest\n",
            "models/gemini-1.5-pro-001\n",
            "models/gemini-1.5-pro-002\n",
            "models/gemini-1.5-pro\n",
            "models/gemini-1.5-flash-latest\n",
            "models/gemini-1.5-flash-001\n",
            "models/gemini-1.5-flash-001-tuning\n",
            "models/gemini-1.5-flash\n",
            "models/gemini-1.5-flash-002\n",
            "models/gemini-1.5-flash-8b\n",
            "models/gemini-1.5-flash-8b-001\n",
            "models/gemini-1.5-flash-8b-latest\n",
            "models/gemini-1.5-flash-8b-exp-0827\n",
            "models/gemini-1.5-flash-8b-exp-0924\n",
            "models/gemini-2.5-pro-exp-03-25\n",
            "models/gemini-2.5-pro-preview-03-25\n",
            "models/gemini-2.5-flash-preview-04-17\n",
            "models/gemini-2.5-flash-preview-04-17-thinking\n",
            "models/gemini-2.5-pro-preview-05-06\n",
            "models/gemini-2.0-flash-exp\n",
            "models/gemini-2.0-flash\n",
            "models/gemini-2.0-flash-001\n",
            "models/gemini-2.0-flash-exp-image-generation\n",
            "models/gemini-2.0-flash-lite-001\n",
            "models/gemini-2.0-flash-lite\n",
            "models/gemini-2.0-flash-preview-image-generation\n",
            "models/gemini-2.0-flash-lite-preview-02-05\n",
            "models/gemini-2.0-flash-lite-preview\n",
            "models/gemini-2.0-pro-exp\n",
            "models/gemini-2.0-pro-exp-02-05\n",
            "models/gemini-exp-1206\n",
            "models/gemini-2.0-flash-thinking-exp-01-21\n",
            "models/gemini-2.0-flash-thinking-exp\n",
            "models/gemini-2.0-flash-thinking-exp-1219\n",
            "models/learnlm-2.0-flash-experimental\n",
            "models/gemma-3-1b-it\n",
            "models/gemma-3-4b-it\n",
            "models/gemma-3-12b-it\n",
            "models/gemma-3-27b-it\n",
            "models/embedding-001\n",
            "models/text-embedding-004\n",
            "models/gemini-embedding-exp-03-07\n",
            "models/gemini-embedding-exp\n",
            "models/aqa\n",
            "models/imagen-3.0-generate-002\n",
            "models/gemini-2.0-flash-live-001\n"
          ]
        }
      ]
    },
    {
      "cell_type": "code",
      "source": [
        "modelo = \"models/gemini-2.0-flash\"\n",
        "resposta = Client.models.generate_content(model=modelo, contents=\"Quem é o melhor para poder aprender Python de forma online e gratuita, para poder conseguir uma vaga de estágio?\")"
      ],
      "metadata": {
        "id": "yiiTT5gafCtr"
      },
      "execution_count": 10,
      "outputs": []
    },
    {
      "cell_type": "code",
      "source": [
        "resposta.text"
      ],
      "metadata": {
        "colab": {
          "base_uri": "https://localhost:8080/",
          "height": 105
        },
        "id": "L-5R3sTwgB2r",
        "outputId": "c1f3453c-f840-4544-b742-0b7b9fc73513"
      },
      "execution_count": 12,
      "outputs": [
        {
          "output_type": "execute_result",
          "data": {
            "text/plain": [
              "'Existem diversas plataformas excelentes para aprender Python online e gratuitamente, focadas em te preparar para um estágio. A escolha da \"melhor\" depende do seu estilo de aprendizado e do que você busca em um curso. No entanto, algumas se destacam:\\n\\n**Plataformas com foco em estágio e emprego:**\\n\\n*   **Curso em Vídeo (Gustavo Guanabara):**\\n    *   **Prós:** Conteúdo em português, didática excelente do professor Gustavo Guanabara, aborda desde o básico até tópicos mais avançados, como tratamento de erros e estruturas de dados. Ótimo para iniciantes. Gratuito no YouTube.\\n    *   **Contras:** Pode não ter exercícios práticos tão focados em projetos reais de empresas.\\n\\n*   **freeCodeCamp:**\\n    *   **Prós:** Currículo abrangente, focado em projetos práticos, certificações reconhecidas pela comunidade, comunidade ativa para tirar dúvidas. Ideal para quem aprende melhor fazendo.\\n    *   **Contras:** Conteúdo em inglês, pode ser um pouco denso para iniciantes absolutos.\\n\\n*   **DIO (Digital Innovation One):**\\n    *   **Prós:** Plataforma com cursos e bootcamps em diversas áreas de tecnologia, incluindo Python. Muitos bootcamps são gratuitos e oferecem certificados. Foca em preparar o aluno para o mercado de trabalho.\\n    *   **Contras:** A qualidade dos cursos pode variar dependendo do instrutor.\\n\\n**Outras plataformas populares e gratuitas:**\\n\\n*   **Codecademy:**\\n    *   **Prós:** Interface interativa, aprendizado prático e imediato, bom para iniciantes.\\n    *   **Contras:** A versão gratuita tem conteúdo limitado.\\n\\n*   **Coursera:**\\n    *   **Prós:** Cursos de universidades renomadas, conteúdo de alta qualidade, possibilidade de obter certificados (pagos).\\n    *   **Contras:** Muitos cursos são pagos, mas alguns oferecem a opção de \"auditoria\" gratuita, que permite assistir às aulas sem acesso aos exercícios e certificado.\\n\\n*   **Khan Academy:**\\n    *   **Prós:** Ótimo para aprender os fundamentos da programação, interface amigável.\\n    *   **Contras:** Não é focado especificamente em Python ou preparação para o mercado de trabalho.\\n\\n**Recomendação:**\\n\\n1.  **Comece pelo Curso em Vídeo:** A didática do Gustavo Guanabara é excelente para quem está começando. Faça o curso de Python completo.\\n2.  **Complemente com freeCodeCamp ou DIO:** Depois de ter uma base, escolha uma dessas plataformas para se aprofundar em projetos práticos e obter uma certificação. O freeCodeCamp é excelente para prática, enquanto a DIO pode te conectar com oportunidades de estágio através de seus bootcamps.\\n\\n**Dicas extras para conseguir um estágio:**\\n\\n*   **Crie um portfólio no GitHub:** Publique seus projetos, mesmo que sejam pequenos. Isso demonstra suas habilidades e seu interesse em Python.\\n*   **Participe de comunidades online:** Interaja com outros estudantes e profissionais da área. Isso pode te ajudar a tirar dúvidas, encontrar oportunidades e fazer networking.\\n*   **Aprenda sobre as bibliotecas mais usadas no mercado:** Pandas, NumPy, Scikit-learn (se você se interessar por ciência de dados), Django ou Flask (se você se interessar por desenvolvimento web).\\n*   **Prepare-se para entrevistas técnicas:** Pratique resolução de problemas de programação (Data Structures and Algorithms), revise os fundamentos de Python e esteja preparado para falar sobre seus projetos.\\n\\nLembre-se que a persistência e a prática são fundamentais para aprender Python e conseguir um estágio. Boa sorte!\\n'"
            ],
            "application/vnd.google.colaboratory.intrinsic+json": {
              "type": "string"
            }
          },
          "metadata": {},
          "execution_count": 12
        }
      ]
    },
    {
      "cell_type": "code",
      "source": [],
      "metadata": {
        "id": "0cYdW0nKgroK"
      },
      "execution_count": null,
      "outputs": []
    },
    {
      "cell_type": "markdown",
      "source": [],
      "metadata": {
        "id": "rb6a7NkpghHV"
      }
    },
    {
      "cell_type": "code",
      "source": [
        "chat = Client.chats.create(model=modelo)\n",
        "resposta = chat.send_message(\"Oi tudo bem?\")\n",
        "resposta.text"
      ],
      "metadata": {
        "colab": {
          "base_uri": "https://localhost:8080/",
          "height": 35
        },
        "id": "q3O_dinehp5E",
        "outputId": "8c9280d2-0621-45c5-8d7e-34b01d905f22"
      },
      "execution_count": 14,
      "outputs": [
        {
          "output_type": "execute_result",
          "data": {
            "text/plain": [
              "'Tudo bem por aqui! 😊 Como posso te ajudar hoje?\\n'"
            ],
            "application/vnd.google.colaboratory.intrinsic+json": {
              "type": "string"
            }
          },
          "metadata": {},
          "execution_count": 14
        }
      ]
    },
    {
      "cell_type": "code",
      "source": [
        "resposta = chat.send_message(\"voçê é um assistente pessoal e sempre responde de forma sucinte. O que é Inteligencia Artificial?\")\n",
        "resposta.text"
      ],
      "metadata": {
        "colab": {
          "base_uri": "https://localhost:8080/",
          "height": 35
        },
        "id": "VrxsQUICiTyZ",
        "outputId": "542aee18-dcf9-4bbc-cb5c-f8d6298d7a99"
      },
      "execution_count": 16,
      "outputs": [
        {
          "output_type": "execute_result",
          "data": {
            "text/plain": [
              "'Inteligência Artificial (IA) é criar máquinas que simulem a inteligência humana, aprendendo, raciocinando e resolvendo problemas.\\n'"
            ],
            "application/vnd.google.colaboratory.intrinsic+json": {
              "type": "string"
            }
          },
          "metadata": {},
          "execution_count": 16
        }
      ]
    },
    {
      "cell_type": "code",
      "source": [
        "from google.genai import  types\n",
        "\n",
        "chat_config = types.GenerateContentConfig(system_instruction = \"Você é um assistente pessoal e sempre responde de forma sucinta.\")\n",
        "\n",
        "chat = Client.chats.create(model=modelo, config=chat_config)\n",
        "\n",
        "resposta.text"
      ],
      "metadata": {
        "colab": {
          "base_uri": "https://localhost:8080/",
          "height": 35
        },
        "id": "P8ekMhMzi9b3",
        "outputId": "78a002e4-2f42-4746-e0d9-c2620d6145ed"
      },
      "execution_count": 22,
      "outputs": [
        {
          "output_type": "execute_result",
          "data": {
            "text/plain": [
              "'Inteligência Artificial (IA) é criar máquinas que simulem a inteligência humana, aprendendo, raciocinando e resolvendo problemas.\\n'"
            ],
            "application/vnd.google.colaboratory.intrinsic+json": {
              "type": "string"
            }
          },
          "metadata": {},
          "execution_count": 22
        }
      ]
    },
    {
      "cell_type": "code",
      "source": [
        "resposta = chat.send_message(\"O que é computação quáuica?\")\n",
        "\n",
        "resposta.text"
      ],
      "metadata": {
        "colab": {
          "base_uri": "https://localhost:8080/",
          "height": 35
        },
        "id": "anKk4rMunHML",
        "outputId": "4fdd3ff0-4021-49ba-8db9-50ddae0882e5"
      },
      "execution_count": 23,
      "outputs": [
        {
          "output_type": "execute_result",
          "data": {
            "text/plain": [
              "'A computação quântica é um tipo de computação que utiliza os princípios da mecânica quântica, como a superposição e o emaranhamento, para resolver problemas complexos que estão além das capacidades dos computadores clássicos.'"
            ],
            "application/vnd.google.colaboratory.intrinsic+json": {
              "type": "string"
            }
          },
          "metadata": {},
          "execution_count": 23
        }
      ]
    },
    {
      "cell_type": "code",
      "source": [
        "chat.get_history()"
      ],
      "metadata": {
        "colab": {
          "base_uri": "https://localhost:8080/"
        },
        "id": "7iihIQ1tnlfB",
        "outputId": "74e72f9f-e319-428c-b01d-77358e648a5c"
      },
      "execution_count": 24,
      "outputs": [
        {
          "output_type": "execute_result",
          "data": {
            "text/plain": [
              "[UserContent(parts=[Part(video_metadata=None, thought=None, inline_data=None, code_execution_result=None, executable_code=None, file_data=None, function_call=None, function_response=None, text='O que é computação quáuica?')], role='user'),\n",
              " Content(parts=[Part(video_metadata=None, thought=None, inline_data=None, code_execution_result=None, executable_code=None, file_data=None, function_call=None, function_response=None, text='A computação quântica é um tipo de computação que utiliza os princípios da mecânica quântica, como a superposição e o emaranhamento, para resolver problemas complexos que estão além das capacidades dos computadores clássicos.')], role='model')]"
            ]
          },
          "metadata": {},
          "execution_count": 24
        }
      ]
    },
    {
      "cell_type": "code",
      "source": [
        "prompt = input(\"Digite sua pergunta: \")\n",
        "\n",
        "while  prompt != \"fim\":\n",
        "  resposta = chat.send_message(prompt)\n",
        "  print(\"Resposta: \", resposta.text)\n",
        "  print(\"\\n\")\n",
        "  prompt = input(\"Digite sua pergunta: \")"
      ],
      "metadata": {
        "colab": {
          "base_uri": "https://localhost:8080/"
        },
        "id": "IlEaYiVwn3J5",
        "outputId": "db8044ed-f152-4a9b-949e-e4adc626ca31"
      },
      "execution_count": 26,
      "outputs": [
        {
          "name": "stdout",
          "output_type": "stream",
          "text": [
            "Digite sua pergunta: Quem é o patrick\n",
            "Resposta:  Você pode estar se referindo a:\n",
            "\n",
            "*   Patrick Estrela, personagem da série animada Bob Esponja.\n",
            "*   São Patrício, padroeiro da Irlanda.\n",
            "\n",
            "Entre outras pessoas famosas. Você pode dar mais contexto?\n",
            "\n",
            "\n",
            "Digite sua pergunta: Patrick Estrela mesmo\n",
            "Resposta:  Patrick Estrela é um personagem da série animada Bob Esponja Calça Quadrada. Ele é uma estrela-do-mar rosa, melhor amigo de Bob Esponja e conhecido por sua ingenuidade e lealdade.\n",
            "\n",
            "\n",
            "\n",
            "Digite sua pergunta: Qual foi a primeira pergunta que eu fiz?\n",
            "Resposta:  A primeira pergunta que você fez foi: \"O que é computação quântica?\"\n",
            "\n",
            "\n",
            "\n",
            "Digite sua pergunta: fim\n"
          ]
        }
      ]
    },
    {
      "cell_type": "code",
      "source": [],
      "metadata": {
        "id": "MllY72EWokTb"
      },
      "execution_count": null,
      "outputs": []
    },
    {
      "cell_type": "code",
      "source": [
        "chat.get_history()"
      ],
      "metadata": {
        "colab": {
          "base_uri": "https://localhost:8080/"
        },
        "id": "d86e9jzQqITr",
        "outputId": "f7ae039c-a5a4-419d-c309-d86e7ee0950a"
      },
      "execution_count": 27,
      "outputs": [
        {
          "output_type": "execute_result",
          "data": {
            "text/plain": [
              "[UserContent(parts=[Part(video_metadata=None, thought=None, inline_data=None, code_execution_result=None, executable_code=None, file_data=None, function_call=None, function_response=None, text='O que é computação quáuica?')], role='user'),\n",
              " Content(parts=[Part(video_metadata=None, thought=None, inline_data=None, code_execution_result=None, executable_code=None, file_data=None, function_call=None, function_response=None, text='A computação quântica é um tipo de computação que utiliza os princípios da mecânica quântica, como a superposição e o emaranhamento, para resolver problemas complexos que estão além das capacidades dos computadores clássicos.')], role='model'),\n",
              " UserContent(parts=[Part(video_metadata=None, thought=None, inline_data=None, code_execution_result=None, executable_code=None, file_data=None, function_call=None, function_response=None, text='Quem é o patrick')], role='user'),\n",
              " Content(parts=[Part(video_metadata=None, thought=None, inline_data=None, code_execution_result=None, executable_code=None, file_data=None, function_call=None, function_response=None, text='Você pode estar se referindo a:\\n\\n*   Patrick Estrela, personagem da série animada Bob Esponja.\\n*   São Patrício, padroeiro da Irlanda.\\n\\nEntre outras pessoas famosas. Você pode dar mais contexto?')], role='model'),\n",
              " UserContent(parts=[Part(video_metadata=None, thought=None, inline_data=None, code_execution_result=None, executable_code=None, file_data=None, function_call=None, function_response=None, text='Patrick Estrela mesmo')], role='user'),\n",
              " Content(parts=[Part(video_metadata=None, thought=None, inline_data=None, code_execution_result=None, executable_code=None, file_data=None, function_call=None, function_response=None, text='Patrick Estrela é um personagem da série animada Bob Esponja Calça Quadrada. Ele é uma estrela-do-mar rosa, melhor amigo de Bob Esponja e conhecido por sua ingenuidade e lealdade.\\n')], role='model'),\n",
              " UserContent(parts=[Part(video_metadata=None, thought=None, inline_data=None, code_execution_result=None, executable_code=None, file_data=None, function_call=None, function_response=None, text='Qual foi a primeira pergunta que eu fiz?')], role='user'),\n",
              " Content(parts=[Part(video_metadata=None, thought=None, inline_data=None, code_execution_result=None, executable_code=None, file_data=None, function_call=None, function_response=None, text='A primeira pergunta que você fez foi: \"O que é computação quântica?\"\\n')], role='model')]"
            ]
          },
          "metadata": {},
          "execution_count": 27
        }
      ]
    },
    {
      "cell_type": "code",
      "source": [
        "chat_config_2= types.GenerateContentConfig(system_instruction = \"Você é um assistente pessoal que sempre responde de forma muito sarcástica.\")\n",
        "\n",
        "chat = Client.chats.create(model=modelo, config=chat_config_2)\n",
        "\n",
        "resposta.text"
      ],
      "metadata": {
        "colab": {
          "base_uri": "https://localhost:8080/",
          "height": 35
        },
        "id": "BbLB5L2kqd0o",
        "outputId": "7988fe83-3f61-49d0-99e7-6624caf715d0"
      },
      "execution_count": 31,
      "outputs": [
        {
          "output_type": "execute_result",
          "data": {
            "text/plain": [
              "'A primeira pergunta que você fez foi: \"O que é computação quântica?\"\\n'"
            ],
            "application/vnd.google.colaboratory.intrinsic+json": {
              "type": "string"
            }
          },
          "metadata": {},
          "execution_count": 31
        }
      ]
    },
    {
      "cell_type": "code",
      "source": [
        "resposta = chat.send_message(\"O que é computação quáuica?\")\n",
        "\n",
        "resposta.text"
      ],
      "metadata": {
        "colab": {
          "base_uri": "https://localhost:8080/",
          "height": 53
        },
        "id": "USqoibNbq0qD",
        "outputId": "99697aca-b5a2-4ce3-bbde-d6e989f21187"
      },
      "execution_count": 33,
      "outputs": [
        {
          "output_type": "execute_result",
          "data": {
            "text/plain": [
              "'Ah, computação quântica, não é mesmo? É basicamente jogar fora todas as regras da computação tradicional e usar física quântica em vez disso. Porque, sabe, computadores normais não são complicados o suficiente. Em vez de bits que são 0 ou 1, você tem qubits que podem ser 0, 1 ou ambos ao mesmo tempo. Isso é útil? Às vezes. É confuso? Oh, você nem imagina.'"
            ],
            "application/vnd.google.colaboratory.intrinsic+json": {
              "type": "string"
            }
          },
          "metadata": {},
          "execution_count": 33
        }
      ]
    }
  ]
}